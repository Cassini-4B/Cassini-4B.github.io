{
 "cells": [
  {
   "cell_type": "markdown",
   "metadata": {},
   "source": [
    "# Sentiment Analysis Using TextBlob\n",
    "\n",
    "Let's take a look at polarity ('postive' or 'negative') and the subjectivity of a piece of text. \n",
    "\n",
    "![](img/Covfefe-Donald-Trump-811379.jpg)\n"
   ]
  },
  {
   "cell_type": "code",
   "execution_count": 63,
   "metadata": {},
   "outputs": [],
   "source": [
    "import pandas as pd\n",
    "#import numpy as np\n",
    "from textblob import TextBlob, Word\n",
    "import requests\n",
    "from bs4 import BeautifulSoup\n",
    "import time\n",
    "import urllib\n",
    "import sys\n",
    "import random\n",
    "\n",
    "from selenium import webdriver\n",
    "from selenium.webdriver.common.keys import Keys\n",
    "\n",
    "import os\n",
    "chromedriver = \"/Applications/chromedriver\"\n",
    "os.environ[\"webdriver.chrome.driver\"] = chromedriver\n"
   ]
  },
  {
   "cell_type": "code",
   "execution_count": null,
   "metadata": {},
   "outputs": [],
   "source": [
    "donald_url = 'https://twitter.com/realDonaldTrump?ref_src=twsrc%5Egoogle%7Ctwcamp%5Eserp%7Ctwgr%5Eauthor'\n",
    "donald_response = requests.get(donald_url)"
   ]
  },
  {
   "cell_type": "code",
   "execution_count": null,
   "metadata": {},
   "outputs": [],
   "source": [
    "donald_page = donald_response.text"
   ]
  },
  {
   "cell_type": "code",
   "execution_count": null,
   "metadata": {},
   "outputs": [],
   "source": [
    "soup = BeautifulSoup(donald_page,\"lxml\")"
   ]
  },
  {
   "cell_type": "code",
   "execution_count": null,
   "metadata": {},
   "outputs": [],
   "source": [
    "dt_tweets = []\n",
    "\n",
    "tweets = soup.find_all(class_=\"TweetTextSize TweetTextSize--normal js-tweet-text tweet-text\")\n"
   ]
  },
  {
   "cell_type": "code",
   "execution_count": null,
   "metadata": {},
   "outputs": [],
   "source": [
    "for t in tweets:\n",
    "    dt_tweets.append(t.text)\n",
    "\n",
    "len(dt_tweets)\n"
   ]
  },
  {
   "cell_type": "code",
   "execution_count": null,
   "metadata": {},
   "outputs": [],
   "source": [
    "dt_tweets[10]"
   ]
  },
  {
   "cell_type": "code",
   "execution_count": null,
   "metadata": {},
   "outputs": [],
   "source": [
    "blob = []\n",
    "\n",
    "for d in dt_tweets:\n",
    "    blob.append(TextBlob(d))"
   ]
  },
  {
   "cell_type": "code",
   "execution_count": null,
   "metadata": {},
   "outputs": [],
   "source": [
    "len(blob)"
   ]
  },
  {
   "cell_type": "code",
   "execution_count": null,
   "metadata": {},
   "outputs": [],
   "source": [
    "blob[1].sentences"
   ]
  },
  {
   "cell_type": "code",
   "execution_count": null,
   "metadata": {},
   "outputs": [],
   "source": [
    "for np in blob[1].noun_phrases:\n",
    "     print(np)"
   ]
  },
  {
   "cell_type": "code",
   "execution_count": null,
   "metadata": {},
   "outputs": [],
   "source": [
    "for words, tag in blob[1].tags:\n",
    "    print(words, tag)"
   ]
  },
  {
   "cell_type": "code",
   "execution_count": null,
   "metadata": {},
   "outputs": [],
   "source": [
    "for ngram in blob[1].ngrams(2):\n",
    "    print(ngram)"
   ]
  },
  {
   "cell_type": "code",
   "execution_count": null,
   "metadata": {},
   "outputs": [],
   "source": [
    "dt_sentiments = []\n",
    "for b in blob:\n",
    "    print(b, b.sentiment)\n",
    "    print(\"\\n\")\n",
    "    dt_sentiments.append(b.sentiment)"
   ]
  },
  {
   "cell_type": "code",
   "execution_count": null,
   "metadata": {},
   "outputs": [],
   "source": [
    "dt_polarity = pd.Series(x[0] for x in dt_sentiments)\n",
    "dt_subjectivity = pd.Series(x[1] for x in dt_sentiments)"
   ]
  },
  {
   "cell_type": "code",
   "execution_count": null,
   "metadata": {},
   "outputs": [],
   "source": [
    "dt_polarity.describe()"
   ]
  },
  {
   "cell_type": "code",
   "execution_count": null,
   "metadata": {},
   "outputs": [],
   "source": [
    "dt_subjectivity.describe()"
   ]
  },
  {
   "cell_type": "code",
   "execution_count": null,
   "metadata": {},
   "outputs": [],
   "source": [
    "oprah_url = 'https://twitter.com/Oprah?lang=en'\n",
    "oprah_response = requests.get(oprah_url)"
   ]
  },
  {
   "cell_type": "code",
   "execution_count": null,
   "metadata": {},
   "outputs": [],
   "source": [
    "oprah_page = oprah_response.text"
   ]
  },
  {
   "cell_type": "code",
   "execution_count": null,
   "metadata": {},
   "outputs": [],
   "source": [
    "o_soup = BeautifulSoup(oprah_page,\"lxml\")"
   ]
  },
  {
   "cell_type": "code",
   "execution_count": null,
   "metadata": {},
   "outputs": [],
   "source": [
    "op_tweets = []\n",
    "\n",
    "o_tweets = o_soup.find_all(class_=\"TweetTextSize TweetTextSize--normal js-tweet-text tweet-text\")"
   ]
  },
  {
   "cell_type": "code",
   "execution_count": null,
   "metadata": {},
   "outputs": [],
   "source": [
    "for t in o_tweets:\n",
    "    op_tweets.append(t.text)\n",
    "\n",
    "len(op_tweets)"
   ]
  },
  {
   "cell_type": "code",
   "execution_count": null,
   "metadata": {},
   "outputs": [],
   "source": [
    "op_tweets[10]"
   ]
  },
  {
   "cell_type": "code",
   "execution_count": null,
   "metadata": {},
   "outputs": [],
   "source": [
    "o_blob = []\n",
    "\n",
    "for o in op_tweets:\n",
    "    o_blob.append(TextBlob(o))"
   ]
  },
  {
   "cell_type": "code",
   "execution_count": null,
   "metadata": {},
   "outputs": [],
   "source": [
    "len(o_blob)"
   ]
  },
  {
   "cell_type": "code",
   "execution_count": null,
   "metadata": {},
   "outputs": [],
   "source": [
    "o_blob[1].sentences"
   ]
  },
  {
   "cell_type": "code",
   "execution_count": null,
   "metadata": {},
   "outputs": [],
   "source": [
    "for np in o_blob[1].noun_phrases:\n",
    "     print(np)"
   ]
  },
  {
   "cell_type": "code",
   "execution_count": null,
   "metadata": {},
   "outputs": [],
   "source": [
    "for words, tag in o_blob[1].tags:\n",
    "    print(words, tag)"
   ]
  },
  {
   "cell_type": "code",
   "execution_count": null,
   "metadata": {},
   "outputs": [],
   "source": [
    "for ngram in o_blob[1].ngrams(2):\n",
    "    print(ngram)"
   ]
  },
  {
   "cell_type": "code",
   "execution_count": null,
   "metadata": {},
   "outputs": [],
   "source": [
    "ow_sentiments = []\n",
    "for b in o_blob:\n",
    "    print(b, b.sentiment)\n",
    "    print(\"\\n\")\n",
    "    ow_sentiments.append(b.sentiment)"
   ]
  },
  {
   "cell_type": "code",
   "execution_count": null,
   "metadata": {},
   "outputs": [],
   "source": [
    "ow_polarity = pd.Series(x[0] for x in ow_sentiments)\n",
    "ow_subjectivity = pd.Series(x[1] for x in ow_sentiments)"
   ]
  },
  {
   "cell_type": "code",
   "execution_count": null,
   "metadata": {},
   "outputs": [],
   "source": [
    "ow_polarity.describe()"
   ]
  },
  {
   "cell_type": "code",
   "execution_count": null,
   "metadata": {},
   "outputs": [],
   "source": [
    "ow_subjectivity.describe()"
   ]
  },
  {
   "cell_type": "markdown",
   "metadata": {},
   "source": [
    "# Text Summary\n",
    "\n"
   ]
  },
  {
   "cell_type": "code",
   "execution_count": 66,
   "metadata": {},
   "outputs": [],
   "source": [
    "driver = webdriver.Chrome(\"/usr/bin/chromedriver\")\n",
    "driver.get(\"http://www.bbc.com\")\n"
   ]
  },
  {
   "cell_type": "code",
   "execution_count": 67,
   "metadata": {},
   "outputs": [],
   "source": [
    "first_article = driver.find_element_by_class_name('media__link').click();"
   ]
  },
  {
   "cell_type": "code",
   "execution_count": 68,
   "metadata": {},
   "outputs": [],
   "source": [
    "txt_url = driver.current_url"
   ]
  },
  {
   "cell_type": "code",
   "execution_count": 69,
   "metadata": {},
   "outputs": [],
   "source": [
    "driver.close()"
   ]
  },
  {
   "cell_type": "code",
   "execution_count": 70,
   "metadata": {},
   "outputs": [],
   "source": [
    "bbc_response = requests.get(txt_url)"
   ]
  },
  {
   "cell_type": "code",
   "execution_count": 71,
   "metadata": {},
   "outputs": [],
   "source": [
    "bbc_page = bbc_response.text"
   ]
  },
  {
   "cell_type": "code",
   "execution_count": 72,
   "metadata": {},
   "outputs": [],
   "source": [
    "soup = BeautifulSoup(bbc_page,\"lxml\")"
   ]
  },
  {
   "cell_type": "code",
   "execution_count": 73,
   "metadata": {},
   "outputs": [
    {
     "data": {
      "text/plain": [
       "'\\n\\n\\n\\nMedia playback is unsupported on your device\\n\\n\\n\\n\\n\\n Media captionTrump tells Nato chief that Germany is \"totally controlled by Russia\"\\nUS President Donald Trump has urged Nato allies to commit 4% of their annual output (GDP) to military spending - double the current target.The White House confirmed he had made the remarks during the Western military alliance\\'s summit in Brussels.The meeting also saw Mr Trump single out Germany for criticism over its defence spending.Nato\\'s secretary-general said the main focus should be on all members reaching the current target of 2% of GDP.Jens Stoltenberg declined to answer a specific question about Mr Trump\\'s remarks, but told reporters: \"I think we should first get to 2%, focus on that now... the good thing is that we are moving to that.\"\\n\\n\\n            /**/\\n            (function() {\\n                if (window.bbcdotcom && bbcdotcom.adverts && bbcdotcom.adverts.slotAsync) {\\n                    bbcdotcom.adverts.slotAsync(\\'mpu\\', [1,2,3]);\\n                }\\n            })();\\n            /**/\\n        \\n\\nFor decades after the end of the Cold War, he said, Nato countries had cut defence budgets as tensions fell - and now needed to increase them at a time when tensions were rising.\\nCan Nato survive Donald Trump?\\nWhat does the US contribute to Nato? \\nPrevious US presidents have urged Europe to take more responsibility for their defence and reduce the burden on US taxpayers of maintaining forces in Europe long after the end of the Cold War - but none as bluntly as Mr Trump.Confirming the Mr Trump\\'s comments, White House spokeswoman Sarah Sanders said: \"President Trump wants to see our allies share more of the burden and at a very minimum meet their already stated obligations.\"The Brussels meeting comes less than a week before Mr Trump is due to hold his first summit with Vladimir Putin, in Helsinki, reviving concerns among US allies over his proximity to the Russian president.What is the spending row about?\\n\\n\\nImage copyright\\nGetty Images\\n\\n\\nImage caption\\n\\n                    German troops in Lithuania this summer\\n                \\n\\nMr Trump\\'s main objection is that all but a handful of member states have still not increased their defence budgets to meet a goal of spending at least 2% of their annual economic output on defence by 2024.Of Nato\\'s 29 members, just five meet that target this year: the US, Greece, Estonia, the UK and Latvia.However, several, such as Poland and France, are close to the mark.  \\n\\n\\nSkip Twitter post  by @realDonaldTrump\\n\\nMany countries in NATO, which we are expected to defend, are not only short of their current commitment of 2% (which is low), but are also delinquent for many years in payments that have not been made. Will they reimburse the U.S.?— Donald J. Trump (@realDonaldTrump) July 10, 2018\\nReport\\n\\nEnd of Twitter post  by @realDonaldTrump\\n\\n\\n\\nAt a news conference after the first meetings of leaders at the summit, Mr Stoltenberg insisted that more united Nato than divided it.\"We have had discussions, we do have disagreements, but most importantly we have decisions that are pushing this alliance forward and making us stronger. \"In the history of Nato we have had many disagreements and we have been able to overcome them again and again, because at the end of the day we all agree that North America and Europe are safer together.\"All 29 Nato members released a declaration which reaffirmed a commitment to increase military spending. The communique also condemned \"Russian aggression\", including the annexation of Crimea, the use of a nerve agent in southern England and \"election interference\".The BBC\\'s James Cook, at the summit, says the question is, will President Trump take up those concerns directly with President Putin?Our correspondent adds that some European diplomats worry he will not, harbouring a suspicion that Mr Trump\\'s commitment to the multilateral institutions which buttress the liberal world order is only skin deep.\\n\\n\\n\\n\\n\\n\\n\\n\\n\\n\\n\\nIs Trump committed to Nato?By Jonathan Marcus, BBC defence and diplomatic correspondentSo is this mission accomplished at Nato for Donald Trump? Has he achieved his goal of persuading his European allies to spend more on defence?He began the day by calling them \"delinquents\" and ended it with smiles. The Nato summit communique contained the usual words about \"turning a corner\" in terms of defence spending, while recognising \"the need to do more\". How much more and how quickly still remains an issue, with Mr Trump suggesting that the benchmark Nato spending goal of 2% of GDP devoted to defence should be doubled to 4%. That is a level that all the allies apart from the US would struggle to attain. But the real underlying issue remains Mr Trump\\'s commitment to Nato. Does he see it merely as a set of transactional relationships, or as an organisation enshrining the transatlantic partnership that has been the central element of European and US security since World War Two?\\n\\n\\n\\nWhat did Trump say about Germany?Mr Trump clashed with Mrs Merkel ahead of the summit.The US president accused Germany of only spending \"a little bit over 1%\" of its economic output on defence compared to the 4.2% spent by the US \"in actual numbers\".Germany spends 1.24% of GDP on defence and the US 3.5%, according to the latest Nato estimate.The US leader also said: \"Germany is totally controlled by Russia because they will be getting from 60% to 70% of their energy from Russia, and a new pipeline, and you tell me if that\\'s appropriate because I think it\\'s not and I think it\\'s a very bad thing for Nato.\"EU figures suggest Russia is responsible for between 50% and 75% of Germany\\'s gas imports, but gas makes up less than 20% of Germany\\'s energy mix for power production.Reality Check: How much of Germany\\'s gas comes from Russia?Mr Trump made more conciliatory remarks on Wednesday after he and Mrs Merkel met on the sidelines of the Brussels summit, saying defence spending and trade had been discussed.\"We have a very, very good relationship with the chancellor. We have a tremendous relationship with Germany,\" Mr Trump said.But he later repeated his criticism of Germany and other allies in a tweet:\\n\\n\\n\\n\\nImage Copyright @realDonaldTrump\\n@realDonaldTrump\\n\\nReport\\n\\n\\n\\n\\n\\nImage Copyright @realDonaldTrump\\n@realDonaldTrump\\n\\nReport\\n\\n\\n\\n\\nMrs Merkel has responded by comparing German independence now with the time when she grew up in the former East Germany, a satellite of the then Soviet Union.Mrs Merkel told reporters: \"I am very happy that today we are united in freedom as the Federal Republic of Germany. Because of that we can say that we can make our independent policies and make independent decisions.\"\\n'"
      ]
     },
     "execution_count": 73,
     "metadata": {},
     "output_type": "execute_result"
    }
   ],
   "source": [
    "soup.find(class_='story-body__inner').text"
   ]
  },
  {
   "cell_type": "code",
   "execution_count": 74,
   "metadata": {},
   "outputs": [],
   "source": [
    "news_blob = TextBlob(soup.find(class_='story-body__inner').text)"
   ]
  },
  {
   "cell_type": "code",
   "execution_count": 75,
   "metadata": {},
   "outputs": [
    {
     "name": "stdout",
     "output_type": "stream",
     "text": [
      "This text is about...\n",
      "relationships\n",
      "%s\n",
      "elections\n",
      "orders\n",
      "devices\n"
     ]
    }
   ],
   "source": [
    "nouns = list()\n",
    "for word, tag in news_blob.tags:\n",
    "    if tag == 'NN':\n",
    "        nouns.append(word.lemmatize())\n",
    "\n",
    "print(\"This text is about...\")\n",
    "for item in random.sample(nouns, 5):\n",
    "    word = Word(item)\n",
    "    print(word.pluralize())\n"
   ]
  },
  {
   "cell_type": "markdown",
   "metadata": {},
   "source": [
    "# Language Translation\n"
   ]
  },
  {
   "cell_type": "code",
   "execution_count": null,
   "metadata": {},
   "outputs": [],
   "source": [
    "en_blob = TextBlob(u'Winter is coming')"
   ]
  },
  {
   "cell_type": "code",
   "execution_count": null,
   "metadata": {},
   "outputs": [],
   "source": [
    "langlist = ['ar', 'ga', 'ko', 'ja', 'eu', 'zh-TW', 'ka', 'el', 'tr', 'yi', 'gl', 'fr', 'es' ]\n",
    "for l in langlist:\n",
    "    print(en_blob.translate(to=l))"
   ]
  },
  {
   "cell_type": "code",
   "execution_count": null,
   "metadata": {},
   "outputs": [],
   "source": [
    "ko_blob = TextBlob('겨울오고있다')"
   ]
  },
  {
   "cell_type": "code",
   "execution_count": null,
   "metadata": {},
   "outputs": [],
   "source": [
    "ko_blob.translate(to='en')"
   ]
  },
  {
   "cell_type": "code",
   "execution_count": null,
   "metadata": {},
   "outputs": [],
   "source": []
  }
 ],
 "metadata": {
  "kernelspec": {
   "display_name": "Python 3",
   "language": "python",
   "name": "python3"
  },
  "language_info": {
   "codemirror_mode": {
    "name": "ipython",
    "version": 3
   },
   "file_extension": ".py",
   "mimetype": "text/x-python",
   "name": "python",
   "nbconvert_exporter": "python",
   "pygments_lexer": "ipython3",
   "version": "3.6.5"
  }
 },
 "nbformat": 4,
 "nbformat_minor": 2
}
