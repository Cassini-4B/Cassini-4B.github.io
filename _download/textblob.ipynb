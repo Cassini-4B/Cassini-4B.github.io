{
 "cells": [
  {
   "cell_type": "markdown",
   "metadata": {},
   "source": [
    "# Sentiment Analysis Using TextBlob\n",
    "\n",
    "Let's take a look at polarity ('postive' or 'negative') and the subjectivity of a piece of text. \n",
    "\n",
    "![](img/Covfefe-Donald-Trump-811379.jpg)\n"
   ]
  },
  {
   "cell_type": "code",
   "execution_count": 1,
   "metadata": {},
   "outputs": [],
   "source": [
    "import pandas as pd\n",
    "#import numpy as np\n",
    "import random\n",
    "from textblob import TextBlob, Word\n",
    "import requests\n",
    "from bs4 import BeautifulSoup\n",
    "import time\n",
    "import urllib\n",
    "import sys\n",
    "import random\n",
    "\n",
    "from selenium import webdriver\n",
    "from selenium.webdriver.common.keys import Keys\n",
    "\n",
    "import os\n",
    "chromedriver = \"/Applications/chromedriver\"\n",
    "os.environ[\"webdriver.chrome.driver\"] = chromedriver\n"
   ]
  },
  {
   "cell_type": "code",
   "execution_count": 2,
   "metadata": {},
   "outputs": [],
   "source": [
    "# Use Beautiful Soup to scrape tweets from Donald Trump's twitter page\n",
    "\n",
    "donald_url = 'https://twitter.com/realDonaldTrump?ref_src=twsrc%5Egoogle%7Ctwcamp%5Eserp%7Ctwgr%5Eauthor'\n",
    "donald_response = requests.get(donald_url)"
   ]
  },
  {
   "cell_type": "code",
   "execution_count": 3,
   "metadata": {},
   "outputs": [],
   "source": [
    "donald_page = donald_response.text"
   ]
  },
  {
   "cell_type": "code",
   "execution_count": 4,
   "metadata": {},
   "outputs": [],
   "source": [
    "soup = BeautifulSoup(donald_page,\"lxml\")"
   ]
  },
  {
   "cell_type": "code",
   "execution_count": 5,
   "metadata": {},
   "outputs": [],
   "source": [
    "dt_tweets = []\n",
    "\n",
    "tweets = soup.find_all(class_=\"TweetTextSize TweetTextSize--normal js-tweet-text tweet-text\")\n"
   ]
  },
  {
   "cell_type": "code",
   "execution_count": 6,
   "metadata": {},
   "outputs": [
    {
     "data": {
      "text/plain": [
       "20"
      ]
     },
     "execution_count": 6,
     "metadata": {},
     "output_type": "execute_result"
    }
   ],
   "source": [
    "# This tells me the number of tweets scraped\n",
    "\n",
    "for t in tweets:\n",
    "    dt_tweets.append(t.text)\n",
    "\n",
    "len(dt_tweets)\n"
   ]
  },
  {
   "cell_type": "code",
   "execution_count": 7,
   "metadata": {},
   "outputs": [
    {
     "name": "stdout",
     "output_type": "stream",
     "text": [
      "3\n"
     ]
    },
    {
     "data": {
      "text/plain": [
       "'As I head out to a very important NATO meeting, I see that FBI Lover/Agent Lisa Page is dodging a Subpoena & is refusing to show up and testify. What can she possibly say about her statements and lies. So much corruption on the other side. Where is the Attorney General? @FoxNews'"
      ]
     },
     "execution_count": 7,
     "metadata": {},
     "output_type": "execute_result"
    }
   ],
   "source": [
    "# Print a random tweet from the set of tweets that were scraped\n",
    "\n",
    "x = random.randint(1, len(dt_tweets))\n",
    "print(x)\n",
    "\n",
    "dt_tweets[x]\n",
    "#dt_tweets"
   ]
  },
  {
   "cell_type": "code",
   "execution_count": 8,
   "metadata": {},
   "outputs": [],
   "source": [
    "# TextBlob implementation\n",
    "\n",
    "blob = []\n",
    "\n",
    "for d in dt_tweets:\n",
    "    blob.append(TextBlob(d))"
   ]
  },
  {
   "cell_type": "code",
   "execution_count": 9,
   "metadata": {},
   "outputs": [
    {
     "data": {
      "text/plain": [
       "20"
      ]
     },
     "execution_count": 9,
     "metadata": {},
     "output_type": "execute_result"
    }
   ],
   "source": [
    "# Sanity check: len(blob) == len(tweets)?\n",
    "len(blob)"
   ]
  },
  {
   "cell_type": "code",
   "execution_count": 10,
   "metadata": {},
   "outputs": [
    {
     "data": {
      "text/plain": [
       "[Sentence(\"As I head out to a very important NATO meeting, I see that FBI Lover/Agent Lisa Page is dodging a Subpoena & is refusing to show up and testify.\"),\n",
       " Sentence(\"What can she possibly say about her statements and lies.\"),\n",
       " Sentence(\"So much corruption on the other side.\"),\n",
       " Sentence(\"Where is the Attorney General?\"),\n",
       " Sentence(\"@FoxNews\")]"
      ]
     },
     "execution_count": 10,
     "metadata": {},
     "output_type": "execute_result"
    }
   ],
   "source": [
    "blob[x].sentences"
   ]
  },
  {
   "cell_type": "code",
   "execution_count": 11,
   "metadata": {},
   "outputs": [
    {
     "name": "stdout",
     "output_type": "stream",
     "text": [
      "As IN\n",
      "I PRP\n",
      "head VBP\n",
      "out RP\n",
      "to TO\n",
      "a DT\n",
      "very RB\n",
      "important JJ\n",
      "NATO NNP\n",
      "meeting NN\n",
      "I PRP\n",
      "see VBP\n",
      "that IN\n",
      "FBI NNP\n",
      "Lover/Agent NNP\n",
      "Lisa NNP\n",
      "Page NNP\n",
      "is VBZ\n",
      "dodging VBG\n",
      "a DT\n",
      "Subpoena NNP\n",
      "& CC\n",
      "is VBZ\n",
      "refusing VBG\n",
      "to TO\n",
      "show VB\n",
      "up RP\n",
      "and CC\n",
      "testify VB\n",
      "What WP\n",
      "can MD\n",
      "she PRP\n",
      "possibly RB\n",
      "say VBP\n",
      "about IN\n",
      "her PRP$\n",
      "statements NNS\n",
      "and CC\n",
      "lies NNS\n",
      "So RB\n",
      "much JJ\n",
      "corruption NN\n",
      "on IN\n",
      "the DT\n",
      "other JJ\n",
      "side NN\n",
      "Where WRB\n",
      "is VBZ\n",
      "the DT\n",
      "Attorney NNP\n",
      "General NNP\n",
      "@ JJ\n",
      "FoxNews NNS\n"
     ]
    }
   ],
   "source": [
    "# POS Tagging\n",
    "# for tag info: https://www.ling.upenn.edu/courses/Fall_2003/ling001/penn_treebank_pos.html\n",
    "\n",
    "for words, tag in blob[x].tags:\n",
    "    print(words, tag)"
   ]
  },
  {
   "cell_type": "code",
   "execution_count": 12,
   "metadata": {},
   "outputs": [
    {
     "name": "stdout",
     "output_type": "stream",
     "text": [
      "important nato meeting\n",
      "lover/agent lisa page\n",
      "subpoena\n",
      "foxnews\n"
     ]
    }
   ],
   "source": [
    "for np in blob[x].noun_phrases:\n",
    "     print(np)"
   ]
  },
  {
   "cell_type": "code",
   "execution_count": 23,
   "metadata": {},
   "outputs": [
    {
     "name": "stdout",
     "output_type": "stream",
     "text": [
      "['I', 'am']\n",
      "['am', 'in']\n",
      "['in', 'Brussels']\n",
      "['Brussels', 'but']\n",
      "['but', 'always']\n",
      "['always', 'thinking']\n",
      "['thinking', 'about']\n",
      "['about', 'our']\n",
      "['our', 'farmers']\n",
      "['farmers', 'Soy']\n",
      "['Soy', 'beans']\n",
      "['beans', 'fell']\n",
      "['fell', '50']\n",
      "['50', 'from']\n",
      "['from', '2012']\n",
      "['2012', 'to']\n",
      "['to', 'my']\n",
      "['my', 'election']\n",
      "['election', 'Farmers']\n",
      "['Farmers', 'have']\n",
      "['have', 'done']\n",
      "['done', 'poorly']\n",
      "['poorly', 'for']\n",
      "['for', '15']\n",
      "['15', 'years']\n",
      "['years', 'Other']\n",
      "['Other', 'countries']\n",
      "['countries', '’']\n",
      "['’', 'trade']\n",
      "['trade', 'barriers']\n",
      "['barriers', 'and']\n",
      "['and', 'tariffs']\n",
      "['tariffs', 'have']\n",
      "['have', 'been']\n",
      "['been', 'destroying']\n",
      "['destroying', 'their']\n",
      "['their', 'businesses']\n",
      "['businesses', 'I']\n",
      "['I', 'will']\n",
      "['will', 'open']\n"
     ]
    }
   ],
   "source": [
    "#n-gram analysis\n",
    "\n",
    "for ngram in blob[x].ngrams(2):\n",
    "    print(ngram)"
   ]
  },
  {
   "cell_type": "code",
   "execution_count": 13,
   "metadata": {},
   "outputs": [
    {
     "name": "stdout",
     "output_type": "stream",
     "text": [
      "#NATOSummit2018 Press Conference in Brussels, Belgium:https://www.pscp.tv/w/bhcrPDFvTlFsTFJub1dwUXd8MXluSk9ZWEFuTUVLUvfjYbF9Qv07R34Ix3JItlgPIZlPHPx1wWtMCbOQ-7M0?t=4s … Sentiment(polarity=0.0, subjectivity=0.0)\n",
      "\n",
      "\n",
      "....On top of it all, Germany just started paying Russia, the country they want protection from, Billions of Dollars for their Energy needs coming out of a new pipeline from Russia. Not acceptable! All NATO Nations must meet their 2% commitment, and that must ultimately go to 4%! Sentiment(polarity=0.22348484848484848, subjectivity=0.6515151515151515)\n",
      "\n",
      "\n",
      "Presidents have been trying unsuccessfully for years to get Germany and other rich NATO Nations to pay more toward their protection from Russia. They pay only a fraction of their cost. The U.S. pays tens of Billions of Dollars too much to subsidize Europe, and loses Big on Trade! Sentiment(polarity=0.09285714285714285, subjectivity=0.4321428571428572)\n",
      "\n",
      "\n",
      "As I head out to a very important NATO meeting, I see that FBI Lover/Agent Lisa Page is dodging a Subpoena & is refusing to show up and testify. What can she possibly say about her statements and lies. So much corruption on the other side. Where is the Attorney General? @FoxNews Sentiment(polarity=0.129, subjectivity=0.615)\n",
      "\n",
      "\n",
      "Billions of additional dollars are being spent by NATO countries since my visit last year, at my request, but it isn’t nearly enough. U.S. spends too much. Europe’s borders are BAD! Pipeline dollars to Russia are not acceptable! Sentiment(polarity=-0.18, subjectivity=0.30666666666666664)\n",
      "\n",
      "\n",
      "How can the Rigged Witch Hunt proceed when it was started, influenced and worked on, for an extended period of time, by former FBI Agent/Lover Peter Strzok? Read his hate filled and totally biased Emails and the answer is clear! Sentiment(polarity=-0.05500000000000001, subjectivity=0.5866666666666667)\n",
      "\n",
      "\n",
      "Ex-FBI LAYER Lisa Page today defied a House of Representatives issued Subpoena to testify before Congress! Wow, but is anybody really surprised!  Together with her lover, FBI Agent Peter Strzok, she worked on the Rigged Witch Hunt, perhaps the most tainted and corrupt case EVER! Sentiment(polarity=0.024999999999999994, subjectivity=0.85)\n",
      "\n",
      "\n",
      "What good is NATO if Germany is paying Russia billions of dollars for gas and energy? Why are there only 5 out of 29 countries that have met their commitment? The U.S. is paying for Europe’s protection, then loses billions on Trade. Must pay 2% of GDP IMMEDIATELY, not by 2025. Sentiment(polarity=0.13333333333333333, subjectivity=0.5666666666666668)\n",
      "\n",
      "\n",
      "President @realDonaldTrump and President @EmmanuelMacron of France meeting earlier today at #NATOSummit2018 in Brussels, Belgium. #NATOpic.twitter.com/RTyTgiq4Iy Sentiment(polarity=0.0, subjectivity=0.5)\n",
      "\n",
      "\n",
      "President @realDonaldTrump meets with Chancellor Angela Merkel of Germany, along with their respective delegations at #NATOSummit2018 in Brussels, Belgium...pic.twitter.com/KGAh50x1MT Sentiment(polarity=0.0, subjectivity=0.1)\n",
      "\n",
      "\n",
      "...things up, better than ever before, but it can’t go too quickly. I am fighting for a level playing field for our farmers, and will win! Sentiment(polarity=0.611111111111111, subjectivity=0.4666666666666666)\n",
      "\n",
      "\n",
      "I am in Brussels, but always thinking about our farmers. Soy beans fell 50% from 2012 to my election. Farmers have done poorly for 15 years. Other countries’ trade barriers and tariffs have been destroying their businesses. I will open... Sentiment(polarity=-0.18125000000000002, subjectivity=0.36875)\n",
      "\n",
      "\n",
      "Democrats in Congress must no longer Obstruct - vote to fix our terrible Immigration Laws now. I am watching what is going on from Europe - it would be soooo simple to fix. Judges run the system and illegals and traffickers know how it works. They are just using children! Sentiment(polarity=-0.5, subjectivity=0.6785714285714286)\n",
      "\n",
      "\n",
      "President Donald J. Trump and First Lady Melania Trump participate in the Tri-Mission Embassy Meet and Greet Wednesday, July 11, 2018, in Brussels, Belgium.pic.twitter.com/7sdhbMQVHl Sentiment(polarity=0.25, subjectivity=0.3333333333333333)\n",
      "\n",
      "\n",
      "If the Democrats want to win Supreme Court and other Court picks, don’t Obstruct and Resist, but rather do it the good ol’ fashioned way, WIN ELECTIONS! Sentiment(polarity=0.59375, subjectivity=0.44375)\n",
      "\n",
      "\n",
      "What good is NATO if Germany is paying Russia billions of dollars for gas and energy? Why are there only 5 out of 29 countries that have met their commitment? The U.S. is paying for Europe’s protection, then loses billions on Trade. Must pay 2% of GDP IMMEDIATELY, not by 2025. Sentiment(polarity=0.13333333333333333, subjectivity=0.5666666666666668)\n",
      "\n",
      "\n",
      "Democrats in Congress must no longer Obstruct - vote to fix our terrible Immigration Laws now. I am watching what is going on from Europe - it would be soooo simple to fix. Judges run the system and illegals and traffickers know how it works. They are just using children! Sentiment(polarity=-0.5, subjectivity=0.6785714285714286)\n",
      "\n",
      "\n",
      "...things up, better than ever before, but it can’t go too quickly. I am fighting for a level playing field for our farmers, and will win! Sentiment(polarity=0.611111111111111, subjectivity=0.4666666666666666)\n",
      "\n",
      "\n",
      "I am in Brussels, but always thinking about our farmers. Soy beans fell 50% from 2012 to my election. Farmers have done poorly for 15 years. Other countries’ trade barriers and tariffs have been destroying their businesses. I will open... Sentiment(polarity=-0.18125000000000002, subjectivity=0.36875)\n",
      "\n",
      "\n",
      "Bilateral Breakfast with NATO Secretary General in Brussels, Belgium...pic.twitter.com/l0EP3lzhCM Sentiment(polarity=0.05000000000000002, subjectivity=0.5)\n",
      "\n",
      "\n"
     ]
    }
   ],
   "source": [
    "# Sentiment Analysis\n",
    "\n",
    "dt_sentiments = []\n",
    "for b in blob:\n",
    "    print(b, b.sentiment)\n",
    "    print(\"\\n\")\n",
    "    dt_sentiments.append(b.sentiment)"
   ]
  },
  {
   "cell_type": "code",
   "execution_count": 14,
   "metadata": {},
   "outputs": [
    {
     "data": {
      "text/plain": [
       "Sentiment(polarity=0.129, subjectivity=0.615)"
      ]
     },
     "execution_count": 14,
     "metadata": {},
     "output_type": "execute_result"
    }
   ],
   "source": [
    "dt_sentiments[x]"
   ]
  },
  {
   "cell_type": "code",
   "execution_count": 15,
   "metadata": {},
   "outputs": [],
   "source": [
    "dt_polarity = pd.Series(x[0] for x in dt_sentiments)\n",
    "dt_subjectivity = pd.Series(x[1] for x in dt_sentiments)"
   ]
  },
  {
   "cell_type": "code",
   "execution_count": 16,
   "metadata": {},
   "outputs": [
    {
     "data": {
      "text/plain": [
       "count    20.000000\n",
       "mean      0.062774\n",
       "std       0.307636\n",
       "min      -0.500000\n",
       "25%      -0.086250\n",
       "50%       0.037500\n",
       "75%       0.155871\n",
       "max       0.611111\n",
       "dtype: float64"
      ]
     },
     "execution_count": 16,
     "metadata": {},
     "output_type": "execute_result"
    }
   ],
   "source": [
    "dt_polarity.describe()"
   ]
  },
  {
   "cell_type": "code",
   "execution_count": 17,
   "metadata": {},
   "outputs": [
    {
     "data": {
      "text/plain": [
       "count    20.000000\n",
       "mean      0.474019\n",
       "std       0.198011\n",
       "min       0.000000\n",
       "25%       0.368750\n",
       "50%       0.483333\n",
       "75%       0.593750\n",
       "max       0.850000\n",
       "dtype: float64"
      ]
     },
     "execution_count": 17,
     "metadata": {},
     "output_type": "execute_result"
    }
   ],
   "source": [
    "dt_subjectivity.describe()"
   ]
  },
  {
   "cell_type": "code",
   "execution_count": 29,
   "metadata": {},
   "outputs": [],
   "source": [
    "oprah_url = 'https://twitter.com/Oprah?lang=en'\n",
    "oprah_response = requests.get(oprah_url)"
   ]
  },
  {
   "cell_type": "code",
   "execution_count": 30,
   "metadata": {},
   "outputs": [],
   "source": [
    "oprah_page = oprah_response.text"
   ]
  },
  {
   "cell_type": "code",
   "execution_count": 31,
   "metadata": {},
   "outputs": [],
   "source": [
    "o_soup = BeautifulSoup(oprah_page,\"lxml\")"
   ]
  },
  {
   "cell_type": "code",
   "execution_count": 32,
   "metadata": {},
   "outputs": [],
   "source": [
    "op_tweets = []\n",
    "\n",
    "o_tweets = o_soup.find_all(class_=\"TweetTextSize TweetTextSize--normal js-tweet-text tweet-text\")"
   ]
  },
  {
   "cell_type": "code",
   "execution_count": 33,
   "metadata": {},
   "outputs": [
    {
     "data": {
      "text/plain": [
       "20"
      ]
     },
     "execution_count": 33,
     "metadata": {},
     "output_type": "execute_result"
    }
   ],
   "source": [
    "for t in o_tweets:\n",
    "    op_tweets.append(t.text)\n",
    "\n",
    "len(op_tweets)"
   ]
  },
  {
   "cell_type": "code",
   "execution_count": 34,
   "metadata": {},
   "outputs": [
    {
     "name": "stdout",
     "output_type": "stream",
     "text": [
      "15\n"
     ]
    },
    {
     "data": {
      "text/plain": [
       "'Thanks for being a part of the TREND y’all! #LOVEis'"
      ]
     },
     "execution_count": 34,
     "metadata": {},
     "output_type": "execute_result"
    }
   ],
   "source": [
    "y = random.randint(1, len(op_tweets))\n",
    "print(y)\n",
    "\n",
    "op_tweets[y]"
   ]
  },
  {
   "cell_type": "code",
   "execution_count": 35,
   "metadata": {},
   "outputs": [],
   "source": [
    "o_blob = []\n",
    "\n",
    "for o in op_tweets:\n",
    "    o_blob.append(TextBlob(o))"
   ]
  },
  {
   "cell_type": "code",
   "execution_count": 36,
   "metadata": {},
   "outputs": [
    {
     "data": {
      "text/plain": [
       "20"
      ]
     },
     "execution_count": 36,
     "metadata": {},
     "output_type": "execute_result"
    }
   ],
   "source": [
    "len(o_blob)"
   ]
  },
  {
   "cell_type": "code",
   "execution_count": 37,
   "metadata": {},
   "outputs": [
    {
     "data": {
      "text/plain": [
       "[Sentence(\"Thanks for being a part of the TREND y’all!\"), Sentence(\"#LOVEis\")]"
      ]
     },
     "execution_count": 37,
     "metadata": {},
     "output_type": "execute_result"
    }
   ],
   "source": [
    "o_blob[y].sentences"
   ]
  },
  {
   "cell_type": "code",
   "execution_count": 38,
   "metadata": {},
   "outputs": [
    {
     "name": "stdout",
     "output_type": "stream",
     "text": [
      "Thanks NNS\n",
      "for IN\n",
      "being VBG\n",
      "a DT\n",
      "part NN\n",
      "of IN\n",
      "the DT\n",
      "TREND NNP\n",
      "y NN\n",
      "’ NNP\n",
      "all DT\n",
      "LOVEis NNP\n"
     ]
    }
   ],
   "source": [
    "for words, tag in o_blob[y].tags:\n",
    "    print(words, tag)"
   ]
  },
  {
   "cell_type": "code",
   "execution_count": 39,
   "metadata": {},
   "outputs": [
    {
     "name": "stdout",
     "output_type": "stream",
     "text": [
      "thanks\n",
      "trend\n",
      "y ’\n",
      "loveis\n"
     ]
    }
   ],
   "source": [
    "for np in o_blob[y].noun_phrases:\n",
    "     print(np)"
   ]
  },
  {
   "cell_type": "code",
   "execution_count": 41,
   "metadata": {},
   "outputs": [
    {
     "name": "stdout",
     "output_type": "stream",
     "text": [
      "['Thanks', 'for', 'being']\n",
      "['for', 'being', 'a']\n",
      "['being', 'a', 'part']\n",
      "['a', 'part', 'of']\n",
      "['part', 'of', 'the']\n",
      "['of', 'the', 'TREND']\n",
      "['the', 'TREND', 'y']\n",
      "['TREND', 'y', '’']\n",
      "['y', '’', 'all']\n",
      "['’', 'all', 'LOVEis']\n"
     ]
    }
   ],
   "source": [
    "for ngram in o_blob[y].ngrams(3):\n",
    "    print(ngram)"
   ]
  },
  {
   "cell_type": "code",
   "execution_count": 42,
   "metadata": {},
   "outputs": [
    {
     "name": "stdout",
     "output_type": "stream",
     "text": [
      "LoVE IS __happening on @OWNTV! #LOVEis Sentiment(polarity=0.625, subjectivity=0.6)\n",
      "\n",
      "\n",
      "JusT saw #Whitney. Great job @LisaErspamer and Kevin MacDonald and team. Footage we’ve NEVER seen. Fearless doc.pic.twitter.com/CLmlsl4Ehf Sentiment(polarity=0.8, subjectivity=0.75)\n",
      "\n",
      "\n",
      "Thanks  @BritishVogue @edwardenninful @mertalas @macpiggott. for the regal experience,felt like an “Empress 4 a day!pic.twitter.com/fjd1pyjNyA Sentiment(polarity=0.2, subjectivity=0.2)\n",
      "\n",
      "\n",
      "We’re Live on Facebook! Join us now. Sentiment(polarity=0.17045454545454544, subjectivity=0.5)\n",
      "\n",
      "\n",
      "See ya from my porch in 15 minutes. LIVE FB #TheSunDoesShine Sentiment(polarity=0.13636363636363635, subjectivity=0.5)\n",
      "\n",
      "\n",
      "Love this book and the author. Join me FBLive from my with your insights and questions 6pm eastern.pic.twitter.com/qBqqW66qiV Sentiment(polarity=0.5, subjectivity=0.6)\n",
      "\n",
      "\n",
      "I do so LOVE me some  #QueenSugar  Thank u forever @ava Sentiment(polarity=0.5, subjectivity=0.6)\n",
      "\n",
      "\n",
      "After 30 years of being on death row for a crime he did NOT do, Anthony Ray Hinton is ready to enjoy life. He and best friend Lester who never missed a visit in 30 yrs join us for FB Live. Thursday, TOMORROW - 6pm eastern. #TheSunDoesShinepic.twitter.com/c9vQrJClHn Sentiment(polarity=0.4340909090909091, subjectivity=0.45)\n",
      "\n",
      "\n",
      "#LOVEis the permission to design your own relationship. All new episode of Love Is___ TONIGHT! Grab your Yasir or your Nuri and watch with us. pic.twitter.com/ZM8lVlbPPl Sentiment(polarity=0.4537878787878788, subjectivity=0.6848484848484849)\n",
      "\n",
      "\n",
      "#LOVEis happening now on @OWNTV Sentiment(polarity=0.0, subjectivity=0.0)\n",
      "\n",
      "\n",
      "TONIGHT! 10/9c on OWN. See ya there!  #LOVEispic.twitter.com/HhuRJgw1JN Sentiment(polarity=0.75, subjectivity=1.0)\n",
      "\n",
      "\n",
      "Maria has been my friend since we were both young reporters in Baltimore. Her wisdom and open heart is what the world needs more of right now. My #SuperSoul conversation with @MariaShriver airs on my Facebook tomorrow at 11am EST.pic.twitter.com/EPvQyakXMY Sentiment(polarity=0.22142857142857142, subjectivity=0.4839285714285714)\n",
      "\n",
      "\n",
      "Feeling the love from you all for our new show. Thanks for showing up here and spreading the word. OWNers you Rock! #LOVEis Sentiment(polarity=0.29545454545454547, subjectivity=0.41818181818181815)\n",
      "\n",
      "\n",
      "Yes regular time slot, after Haves. 10pm #LOVEis Sentiment(polarity=0.0, subjectivity=0.07692307692307693)\n",
      "\n",
      "\n",
      "Remember collect calls y’all?“Heard you walkin around town in your drawers” made me#LoveIs Sentiment(polarity=0.0, subjectivity=0.0)\n",
      "\n",
      "\n",
      "Thanks for being a part of the TREND y’all! #LOVEis Sentiment(polarity=0.25, subjectivity=0.2)\n",
      "\n",
      "\n",
      "Here we go @LoveIsOWN ! Happy to be tweet-resting with you ! #LoveIs Sentiment(polarity=1.0, subjectivity=1.0)\n",
      "\n",
      "\n",
      "Are You ready for #LoveIs   on @OWNTV  who is watching with us  TWEET, TWEET right @Oprah  #OwnTVRockspic.twitter.com/i2TYYuKZ47 Sentiment(polarity=0.24285714285714285, subjectivity=0.5178571428571428)\n",
      "\n",
      "\n",
      "Iconic 90s love songs, chosen by @Oprah. \n",
      "Listen to the playlist inspired by the new series #LOVEis, premiering tonight on @OWNTV. \n",
      "Listen here: http://apple.co/OPRAH pic.twitter.com/k9uda0H0ge Sentiment(polarity=0.37878787878787873, subjectivity=0.5181818181818182)\n",
      "\n",
      "\n",
      "Everyone needs a little love right now. #LOVEis series premiere TONIGHT 10/9c on OWN.pic.twitter.com/4EPIUMCCwi Sentiment(polarity=0.1994047619047619, subjectivity=0.5452380952380952)\n",
      "\n",
      "\n"
     ]
    }
   ],
   "source": [
    "ow_sentiments = []\n",
    "for b in o_blob:\n",
    "    print(b, b.sentiment)\n",
    "    print(\"\\n\")\n",
    "    ow_sentiments.append(b.sentiment)"
   ]
  },
  {
   "cell_type": "code",
   "execution_count": 43,
   "metadata": {},
   "outputs": [
    {
     "data": {
      "text/plain": [
       "Sentiment(polarity=0.25, subjectivity=0.2)"
      ]
     },
     "execution_count": 43,
     "metadata": {},
     "output_type": "execute_result"
    }
   ],
   "source": [
    "ow_sentiments[y]"
   ]
  },
  {
   "cell_type": "code",
   "execution_count": 44,
   "metadata": {},
   "outputs": [],
   "source": [
    "ow_polarity = pd.Series(x[0] for x in ow_sentiments)\n",
    "ow_subjectivity = pd.Series(x[1] for x in ow_sentiments)"
   ]
  },
  {
   "cell_type": "code",
   "execution_count": 45,
   "metadata": {},
   "outputs": [
    {
     "data": {
      "text/plain": [
       "count    20.000000\n",
       "mean      0.357881\n",
       "std       0.276691\n",
       "min       0.000000\n",
       "25%       0.192167\n",
       "50%       0.272727\n",
       "75%       0.500000\n",
       "max       1.000000\n",
       "dtype: float64"
      ]
     },
     "execution_count": 45,
     "metadata": {},
     "output_type": "execute_result"
    }
   ],
   "source": [
    "ow_polarity.describe()"
   ]
  },
  {
   "cell_type": "code",
   "execution_count": 46,
   "metadata": {},
   "outputs": [
    {
     "data": {
      "text/plain": [
       "count    20.000000\n",
       "mean      0.482258\n",
       "std       0.280180\n",
       "min       0.000000\n",
       "25%       0.363636\n",
       "50%       0.508929\n",
       "75%       0.600000\n",
       "max       1.000000\n",
       "dtype: float64"
      ]
     },
     "execution_count": 46,
     "metadata": {},
     "output_type": "execute_result"
    }
   ],
   "source": [
    "ow_subjectivity.describe()"
   ]
  },
  {
   "cell_type": "markdown",
   "metadata": {},
   "source": [
    "# Text Summary\n",
    "\n"
   ]
  },
  {
   "cell_type": "code",
   "execution_count": 18,
   "metadata": {},
   "outputs": [],
   "source": [
    "driver = webdriver.Chrome(\"/usr/bin/chromedriver\")\n",
    "driver.get(\"http://www.bbc.com\")\n"
   ]
  },
  {
   "cell_type": "code",
   "execution_count": 19,
   "metadata": {},
   "outputs": [],
   "source": [
    "first_article = driver.find_element_by_class_name('media__link').click();"
   ]
  },
  {
   "cell_type": "code",
   "execution_count": 20,
   "metadata": {},
   "outputs": [],
   "source": [
    "txt_url = driver.current_url"
   ]
  },
  {
   "cell_type": "code",
   "execution_count": 21,
   "metadata": {},
   "outputs": [],
   "source": [
    "driver.close()"
   ]
  },
  {
   "cell_type": "code",
   "execution_count": 22,
   "metadata": {},
   "outputs": [],
   "source": [
    "bbc_response = requests.get(txt_url)"
   ]
  },
  {
   "cell_type": "code",
   "execution_count": 23,
   "metadata": {},
   "outputs": [],
   "source": [
    "bbc_page = bbc_response.text"
   ]
  },
  {
   "cell_type": "code",
   "execution_count": 24,
   "metadata": {},
   "outputs": [],
   "source": [
    "soup = BeautifulSoup(bbc_page,\"lxml\")"
   ]
  },
  {
   "cell_type": "code",
   "execution_count": 25,
   "metadata": {},
   "outputs": [
    {
     "data": {
      "text/plain": [
       "'\\n\\n\\n\\nMedia playback is unsupported on your device\\n\\n\\n\\n\\n\\n Media captionUS President Donald Trump arrived at Stansted Airport for a two-day working visit\\nUS President Donald Trump has arrived in the UK, having said he is \"fine\" about any protests during his visit.Mr Trump and his wife Melania landed at Stansted on Air Force One at 13:50 BST before a helicopter took them to the US ambassador\\'s residence in London.He is due to meet Theresa May, who is seeking a post-Brexit trade deal - days after he said the UK was in \"turmoil\".Extra security is in place to police a number of protests but Mr Trump said he thought Britons \"like me a lot\".Speaking at the Nato summit in Brussels before he arrived, Mr Trump said the UK was a \"pretty hot spot right now\".\\n\\n\\n            /**/\\n            (function() {\\n                if (window.bbcdotcom && bbcdotcom.adverts && bbcdotcom.adverts.slotAsync) {\\n                    bbcdotcom.adverts.slotAsync(\\'mpu\\', [1,2,3]);\\n                }\\n            })();\\n            /**/\\n        \\n\\nMr Trump, who will also spend time with the Queen during his two-day working visit, added: \"You see what\\'s going on throughout the world with immigration... I think that\\'s why Brexit happened.\"He said \"Brexit is Brexit\" and the British people \"voted to break it up, so I imagine that\\'s what they\\'ll do but maybe they\\'re taking a different route - I don\\'t know if that is what they voted for\".Mr Trump has recently been under fire for his own immigration policy, which resulted in the separation of immigrant families.\\nLatest updates on Trump\\'s UK visit\\nTrump: Nato states to up defence funding\\nWhat is going to happen during Trump\\'s trip?\\nHis visit comes as Mrs May publishes a White Paper setting out a blueprint for the UK\\'s relations with the EU.Earlier this week Mr Trump said it was \"up to the people\" whether she stayed on after two cabinet ministers resigned within hours over her Brexit policy.\\n\\n\\nImage copyright\\nGetty Images\\n\\n\\nImage caption\\n\\n                    Mr Trump arrived at the US ambassadors residence in Regent\\'s Park by helicopter\\n                \\n\\nMr Trump travelled from the Nato summit, where he said member countries have agreed to increase their military spending.The president and his wife will attend a dinner, hosted by Mrs May, at Blenheim Palace - the ancestral home of Sir Winston Churchill - in the evening. Mrs May said the UK visit would be an opportunity to boost trade links and strengthen co-operation on security.Along with trade and security links, Downing Street said the other key areas to be discussed between the two leaders included Brexit and the Middle East.Ahead of Mr Trump\\'s visit, Mrs May said that when the UK leaves the European Union \"there will be no alliance more important in the years ahead\".\\n\\n\\nImage copyright\\nGetty Images\\n\\n\\nImage caption\\n\\n                    The US President and First Lady were greeted by International Trade Secretary Liam Fox, the Queen\\'s representative and the chief operating officer of Stansted Airport\\n                \\n\\n\\n\\n\\nImage copyright\\nGetty Images\\n\\n\\nImage caption\\n\\n                    They then departed on Marine One to travel to the US Ambassador in central London\\n                \\n\\n\\n\\n\\nMedia playback is unsupported on your device\\n\\n\\n\\n\\n\\n Media captionSome of Mr Trump\\'s supporters and protesters have been explaining their motivation\\nMr Trump had joked earlier this week that his meeting with Vladimir Putin in the Finnish capital Helsinki on Monday \"may be the easiest\" part of his European trip.Downing Street insisted Mrs May welcomed Mr Trump\\'s decision to \"engage\" with the Russian leader.But she also warned Mr Trump not to ignore the \"malign behaviour\" of Russia.\\n\\n\\n\\nAnalysisBy James Landale, BBC diplomatic correspondentSince Donald Trump took office, Theresa May has had to disagree with him publicly over his decision to impose trade tariffs on EU steel, abandon the Iran nuclear deal, move the US embassy to Jerusalem, order a Muslim travel ban and retweet anti-Muslim messages from a British far right group.In turn, the US president has described Britain as being in political \"turmoil\", criticised its defence spending and shown no enthusiasm for coming to visit: in the 18 months of his presidency, Mr Trump has chosen to visit 17 other countries first.Whatever this relationship is, it can hardly be described as special.So this trip is about ticking a diplomatic box, getting a visit out of the way before its further delay became politically embarrassing.And as working visits go, it is on the minimal side: no Downing Street barbecue, no cabinet visit, no speech to both Houses of Parliament.The diplomatic aim will be to get through the visit without any gaffes, without upsetting the president, and without him saying anything disobliging about Brexit or a future trade deal.The UK and the US do have a good relationship at an institutional level, in the fields of defence, security and intelligence. The tricky bit is always the politics and the personalities.\\n\\n\\n\\nAbout 150 guests are understood to have agreed to attend the dinner at Blenheim Palace, including cabinet members and business leaders.\\nUK protests greet Trump\\'s \\'state visit on the sly\\'\\nPolice beds for Trump visit \\'a disgrace\\'\\nTrump raises questions over Brexit plans\\nOnly one person, the digital entrepreneur and philanthropist Baroness Martha Lane-Fox, has publicly refused the invitation.\\n\\n\\n\\nOn Friday, Mrs May and Mr Trump will go to watch a joint counter-terrorism exercise by British and US special forces at a military base. \\nGuess who\\'s coming to dinner with Trump\\nTrump talks of UK \\'turmoil\\' ahead of trip\\n\\'Trump Baby\\' balloon banned from Turnberry\\nThe UK-US trade relationship in five charts\\nStormy Daniels arrested in Ohio - lawyer\\nThe pair will then travel to Chequers - the PM\\'s country residence in Buckinghamshire - for talks with the foreign secretary.The president and first lady will travel to Windsor on Friday afternoon to meet the Queen, before flying to Scotland to spend the weekend at Mr Trump\\'s Turnberry golf resort. This part of the visit is being considered private.The Police Federation has warned the visit will put \"unquestionable pressure\" on UK police forces as tens of thousands of people are expected to protest against the president in London on Thursday and Friday - and in Glasgow on Friday.It has also complained that 300 officers working during the visit will have to sleep on camp beds in a gymnasium that has no hot water and restricted access to hot food.\\n\\n\\nImage copyright\\nGetty Images\\n\\n\\nImage caption\\n\\n                    Security has been stepped up outside the US ambassador\\'s residence in London where Mr Trump is staying\\n                \\n\\nSmaller demonstrations are also expected to be held across the UK, including Devon, Dundee, Edinburgh, Belfast, Norwich, Manchester, Leeds and Liverpool.Meanwhile, London Mayor Sadiq Khan has granted permission for a giant inflatable figure depicting Mr Trump as a baby to fly over Westminster for two hours on the second day of the president\\'s visit.But the balloon will not be allowed to fly over his Turnberry golf course, Police Scotland have said.\\n'"
      ]
     },
     "execution_count": 25,
     "metadata": {},
     "output_type": "execute_result"
    }
   ],
   "source": [
    "soup.find(class_='story-body__inner').text"
   ]
  },
  {
   "cell_type": "code",
   "execution_count": 26,
   "metadata": {},
   "outputs": [],
   "source": [
    "news_blob = TextBlob(soup.find(class_='story-body__inner').text)"
   ]
  },
  {
   "cell_type": "code",
   "execution_count": 27,
   "metadata": {},
   "outputs": [
    {
     "name": "stdout",
     "output_type": "stream",
     "text": [
      "This text is about...\n",
      "visits\n",
      "visits\n",
      "visits\n",
      "securities\n",
      "Images\n"
     ]
    }
   ],
   "source": [
    "nouns = list()\n",
    "for word, tag in news_blob.tags:\n",
    "    if tag == 'NN':\n",
    "        nouns.append(word.lemmatize())\n",
    "\n",
    "print(\"This text is about...\")\n",
    "for item in random.sample(nouns, 5):\n",
    "    word = Word(item)\n",
    "    print(word.pluralize())\n"
   ]
  },
  {
   "cell_type": "markdown",
   "metadata": {},
   "source": [
    "# Language Translation\n"
   ]
  },
  {
   "cell_type": "code",
   "execution_count": 61,
   "metadata": {},
   "outputs": [],
   "source": [
    "en_blob = TextBlob(u'')"
   ]
  },
  {
   "cell_type": "code",
   "execution_count": 62,
   "metadata": {},
   "outputs": [
    {
     "name": "stdout",
     "output_type": "stream",
     "text": [
      "الشتاء قادم\n",
      "Tá an gheimhridh ag teacht\n",
      "겨울이오고있다.\n",
      "冬が来る\n",
      "Negua badator\n",
      "冬天來了\n",
      "ზამთარი მოდის\n",
      "Ερχεται ο χειμώνας\n",
      "Kış geliyor\n",
      "ווינטער קומט\n",
      "O inverno está chegando\n",
      "L'hiver arrive\n",
      "Viene el invierno\n"
     ]
    }
   ],
   "source": [
    "langlist = ['ar', 'ga', 'ko', 'ja', 'eu', 'zh-TW', 'ka', 'el', 'tr', 'yi', 'gl', 'fr', 'es' ]\n",
    "for l in langlist:\n",
    "    print(en_blob.translate(to=l))"
   ]
  },
  {
   "cell_type": "code",
   "execution_count": 63,
   "metadata": {},
   "outputs": [],
   "source": [
    "ko_blob = TextBlob('겨울오고있다')"
   ]
  },
  {
   "cell_type": "code",
   "execution_count": 64,
   "metadata": {},
   "outputs": [
    {
     "data": {
      "text/plain": [
       "TextBlob(\"Winter is coming\")"
      ]
     },
     "execution_count": 64,
     "metadata": {},
     "output_type": "execute_result"
    }
   ],
   "source": [
    "ko_blob.translate(to='en')"
   ]
  }
 ],
 "metadata": {
  "kernelspec": {
   "display_name": "Python 3",
   "language": "python",
   "name": "python3"
  },
  "language_info": {
   "codemirror_mode": {
    "name": "ipython",
    "version": 3
   },
   "file_extension": ".py",
   "mimetype": "text/x-python",
   "name": "python",
   "nbconvert_exporter": "python",
   "pygments_lexer": "ipython3",
   "version": "3.6.5"
  }
 },
 "nbformat": 4,
 "nbformat_minor": 2
}
